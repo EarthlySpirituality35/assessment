{
 "cells": [
  {
   "attachments": {},
   "cell_type": "markdown",
   "metadata": {},
   "source": [
    "# Data Science Module"
   ]
  },
  {
   "attachments": {},
   "cell_type": "markdown",
   "metadata": {},
   "source": [
    "# **Identifying and Defining**"
   ]
  },
  {
   "attachments": {},
   "cell_type": "markdown",
   "metadata": {},
   "source": [
    "### **Data Scenario**\n",
    "\n",
    "**Data**: List of the top spotify songs and the statistics about the song itself\n",
    "\n",
    "**Goal**: Understanding the similarities between top performing songs\n",
    "\n",
    "**Source**: https://github.com/jivanjotk/Most-Streamed-Spotify-Songs-2023-Analysis-/blob/main/spotify-2023.csv\n",
    "\n",
    "**Access**: It is a publicly accessable file on github\n",
    "\n",
    "**Access Method**: github → .csv file\n",
    "\n"
   ]
  },
  {
   "attachments": {},
   "cell_type": "markdown",
   "metadata": {},
   "source": [
    "### **Functional Requirements**\n",
    "\n",
    "**Data Loading**: \n",
    "- Description: The program should be able to successfully load the data file with little to no problems. If there is a problem it should be able to understand the problem, then being able to do something about the problem such as reporting it.\n",
    "- Input: The user imports the correct dataset. \n",
    "- Output: If the data is in an incorrect format or imported with missing files, there should be an error. If the dataset is correct, nothing will happen.\n",
    "\n",
    "**Data Cleaning**:\n",
    "- Description: All unnecessary files can be deleted such as the date of release, or the in spotify/deezer/apple playlists count.  \n",
    "- Input: The pandas dataframe or a matplotlib chart will be imported.\n",
    "- Output: A visulisation that is shortened with only the needed categories and without errors will be outputted. Commas will be added to make it more readible.\n",
    "\n",
    "**Data Analysis**:\n",
    "- Description: The median, mean or mode can be found on applicable columns\n",
    "- Input: The input will be the output of the data cleansing\n",
    "- Output: The average bpm, artist count and the statistics about the song creation can be averaged out to find out the usual number of each in order to find out information about the similarities between top performing spotify songs. \n",
    "\n",
    "**Data Visulisation**: \n",
    "- Description: The data will be put into a matplotlib graph which will make it easier to visulise, making it easier to distinguish the similarties that most successful songs have.\n",
    "- Input: The data of the analysed data and the cleansed data will be inputted.\n",
    "- Output: The user gets the data in a visualised form such as in a pandas dataframe or a matplotlib chart.The user gets the data in a visualised form such as in a pandas dataframe or a matplotlib chart.\n",
    "\n",
    "**Data Reporting**:\n",
    "- Description: The new dataset will be put into a .csv file and the visualised version of the data will be saved as a .pdf file.\n",
    "- Input: The dataset and the visulised data.\n",
    "- Output: A file of the visulised data and the dataset that is visulised.\n",
    "\n"
   ]
  },
  {
   "attachments": {},
   "cell_type": "markdown",
   "metadata": {},
   "source": [
    "### **Use Cases** ###\n",
    "\n",
    "**Data Loading**:\n",
    "- Actor: User\n",
    "- Goal: Loading the dataset with no problems. Any files incorrectly formatted or missing files should be known with an error message.\n",
    "- Precautions: Data is pre-loaded and "
   ]
  }
 ],
 "metadata": {
  "language_info": {
   "name": "python"
  },
  "orig_nbformat": 4
 },
 "nbformat": 4,
 "nbformat_minor": 2
}
