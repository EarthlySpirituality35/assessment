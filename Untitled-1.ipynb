{
 "cells": [
  {
   "attachments": {},
   "cell_type": "markdown",
   "metadata": {},
   "source": [
    "# Data Science Module"
   ]
  },
  {
   "attachments": {},
   "cell_type": "markdown",
   "metadata": {},
   "source": [
    "# **Identifying and Defining**"
   ]
  },
  {
   "attachments": {},
   "cell_type": "markdown",
   "metadata": {},
   "source": [
    "### **Data Scenario**\n",
    "\n",
    "**Data**: List of the top spotify songs and the statistics about the song itself\n",
    "\n",
    "**Goal**: Understanding the similarities between top performing songs\n",
    "\n",
    "**Source**: https://github.com/jivanjotk/Most-Streamed-Spotify-Songs-2023-Analysis-/blob/main/spotify-2023.csv\n",
    "\n",
    "**Access**: It is a publicly accessable file on github\n",
    "\n",
    "**Access Method**: github → .csv file\n",
    "\n"
   ]
  },
  {
   "attachments": {},
   "cell_type": "markdown",
   "metadata": {},
   "source": [
    "### **Functional Requirements**\n",
    "\n",
    "**Data Loading**: \n",
    "- Description: The program should be able to successfully load the data file with little to no problems. If there is a problem it should be able to understand the problem, then being able to do something about the problem such as reporting it.\n",
    "- Input: The user imports the correct dataset.\n",
    "- Output: The user gets the data in a visualised form such as in a pandas dataframe or a matplotlib chart.\n",
    "\n",
    "**Data Cleaning**:\n",
    "- Description: The data will be grouped by a range of categories in order to \n",
    "- Input:\n",
    "- Output:\n",
    "\n",
    "**Data Analysis**:\n",
    "- Description:\n",
    "- Input:\n",
    "- Output:\n",
    "\n",
    "**Data Visulisation**: \n",
    "- Description: The data will be put into a matplotlib graph which will make it easier to visulise, making it easier to distinguish the similarties that most successful songs have.\n",
    "- Input:\n",
    "- Output:"
   ]
  }
 ],
 "metadata": {
  "language_info": {
   "name": "python"
  },
  "orig_nbformat": 4
 },
 "nbformat": 4,
 "nbformat_minor": 2
}
